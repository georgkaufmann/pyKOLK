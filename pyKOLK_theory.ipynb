{
 "cells": [
  {
   "cell_type": "markdown",
   "id": "84e5c2b2-e374-45a5-9837-94900fc68621",
   "metadata": {},
   "source": [
    "<table>\n",
    "<tr><td><img style=\"height: 150px;\" src=\"images/geo_hydro1.jpg\"></td>\n",
    "<td bgcolor=\"#FFFFFF\">\n",
    "    <p style=\"font-size: xx-large; font-weight: 900; line-height: 100%\">pyKOLK</p>\n",
    "    <p style=\"font-size: large; color: rgba(0,0,0,0.5);\"><b style=color:red;>Solution</b> pockets</p>\n",
    "    <p style=\"font-size: large; color: rgba(0,0,0,0.5);\">Georg Kaufmann</p>\n",
    "    </td>\n",
    "<td><img style=\"height: 150px;\" src=\"images/pyKOLK.png\"></td>\n",
    "</tr>\n",
    "</table>\n",
    "\n",
    "----\n",
    "# `pyKOLK`\n",
    "\n",
    "pyKOLK, a program package prediction the shape of solution pockets in caves from pre-defined climate conditions."
   ]
  },
  {
   "cell_type": "code",
   "execution_count": 22,
   "id": "49108776-4ff8-429d-bd26-fba7a5048646",
   "metadata": {
    "tags": []
   },
   "outputs": [],
   "source": [
    "import matplotlib.pyplot as plt\n",
    "import matplotlib as mpl\n",
    "import numpy as np\n",
    "import sys\n",
    "\n",
    "import libCHEM,libSTALAGMITE"
   ]
  },
  {
   "cell_type": "markdown",
   "id": "2789adb5-3e62-4c12-a648-ab395235c6ee",
   "metadata": {},
   "source": [
    "In this notebook, we discuss the **theoretical background** for modelling shape and geometry of solution pockets.\n",
    "\n",
    "----\n",
    "# Climate\n",
    "<img src='images/KARST_PathOfWater.jpg' style='height:90mm;'>\n",
    "\n",
    "**Climate** conditions control the flow and the chemistry of water seeping from the surface through\n",
    "soil and epikarst towards a cave, where then stalagmites are formed from driplets.\n",
    "\n",
    "The basic climate variables are \n",
    "**temperature** $T$, \n",
    "**carbon-dioxide pressure**, $p$, and\n",
    "**precipitation**, $P$, and the associated evapo-transpiration, $ET$.\n",
    "\n",
    "Four compartments are relevant for us:\n",
    "1. **Atmosphere:** $(T_{atm},p_{atm},P-ET)$\n",
    "\n",
    "2. **Soil:** $(T_{soil},p_{soil})$\n",
    "\n",
    "3. **Epikarst:** $(T_{soil},p_{soil})$\n",
    "\n",
    "4. **Cave:** $(T_{cave},p_{cave})$"
   ]
  },
  {
   "cell_type": "markdown",
   "id": "cc514846-92fa-404c-ab0b-bb0350ffc4ac",
   "metadata": {},
   "source": [
    "----\n",
    "# Chemistry\n",
    "<img src='images/KARST_Cave.jpg'>\n",
    "          \n",
    "The climate variables control the **chemistry** of the seepage water:\n",
    "\n",
    "\n",
    "4. **Calcium concentration in droplet:** $c_{in}$ [mol/m$^3$]\n",
    "$$\n",
    "c_{in} = c_{in} \\big( T_{soil},p_{soil} \\big)\n",
    "$$\n",
    "\n",
    "5. **Calcium equilibrium concentration in cave air:** $c_{eq}$ [mol/m$^3$]\n",
    "$$\n",
    "c_{eq} = c_{eq} \\big( T_{cave},p_{cave} \\big)\n",
    "$$"
   ]
  },
  {
   "cell_type": "markdown",
   "id": "20ddc81c-83c7-482b-bbab-bef4f575d6db",
   "metadata": {},
   "source": [
    "----\n",
    "# Solution pocket\n",
    "\n",
    "We will discuss the formation of **ceiling pockets** along cave roofs. We assume that a fissure provides\n",
    "water along the cave roof. Here, the droplet, which has attained chemical equilibrium with respect to\n",
    "calcite, $c_{in}(T_{rock},p_{rock})$ [mol/m$^3$] under temperature $T_{rock}$ [$^{\\circ}$C] and carbon-dioxide\n",
    "pressure $p_{rock}$ [ppm] condictions of the surface, reflecting climate values, will need to adjust\n",
    "to new $T,P$-conditions, $T_{cave}$ and $p_{cave}$. This results in a new calcium equilibrium,\n",
    "$c_{eq}(T_{cave},p_{cave})$.\n",
    "\n",
    "<img src=\"images/Kolk.jpg\">\n",
    "\n",
    "### Flux rate along growth axis\n",
    "The **calcium flux rate** $F_0$ [mol/m$^2$/s] at the tip of the droplet controls the wall retreat during \n",
    "dissolution on a limestone surface. It is given as:\n",
    "$$\n",
    "F_{0} = k_i \\left( 1 - \\frac{c}{c_{eq}} \\right)^{n_i} \n",
    "$$\n",
    "with\n",
    "- $k_i$ [mol/m$^2$/s] kinetic constant\n",
    "- $n_i$ [-] power-law exponent\n",
    "\n",
    "### Wall retreat \n",
    "\n",
    "The **wall retreat** $W_0$ [m/s] from dissolution of limestone starting at the tip of the drop can then be calculated as:\n",
    "$$\n",
    "W_0 = \\frac{m_r}{\\rho_r} F_{0}\n",
    "$$\n",
    "with\n",
    "- $m_r=0.1001$ [kg/mol] molar mass (of calcite)\n",
    "- $\\rho_r = 2700$ [kg/m$^3$] density of calcite"
   ]
  },
  {
   "cell_type": "markdown",
   "id": "e2657ac9-e96a-471c-a8bd-95f004a69922",
   "metadata": {},
   "source": [
    "----\n",
    "# Growth\n",
    "$$\n",
    "W(x) = \\left\\{\n",
    "\\begin{array}{ll}\n",
    "\\bar{W}_0 e^{- \\frac{\\sum \\Delta l_i}{\\bar{R}_0}} & \\text{geom} \\\\\n",
    "W_i \\big( 1 - \\frac{w_i \\Delta l_i}{R_0^2} \\big)  & \\text{flow}\n",
    "\\end{array}\n",
    "\\right.\n",
    "$$"
   ]
  },
  {
   "cell_type": "markdown",
   "id": "4921a265-164e-4ca8-984d-f25529b2dd45",
   "metadata": {},
   "source": [
    "----"
   ]
  }
 ],
 "metadata": {
  "kernelspec": {
   "display_name": "Python 3 (ipykernel)",
   "language": "python",
   "name": "python3"
  },
  "language_info": {
   "codemirror_mode": {
    "name": "ipython",
    "version": 3
   },
   "file_extension": ".py",
   "mimetype": "text/x-python",
   "name": "python",
   "nbconvert_exporter": "python",
   "pygments_lexer": "ipython3",
   "version": "3.11.3"
  }
 },
 "nbformat": 4,
 "nbformat_minor": 5
}
