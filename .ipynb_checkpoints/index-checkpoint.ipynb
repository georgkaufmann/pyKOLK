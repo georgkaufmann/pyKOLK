{
 "cells": [
  {
   "cell_type": "markdown",
   "id": "383108c6",
   "metadata": {},
   "source": [
    "<table>\n",
    "<tr><td><img style=\"height: 150px;\" src=\"images/geo_hydro1.jpg\"></td>\n",
    "<td bgcolor=\"#FFFFFF\">\n",
    "    <p style=\"font-size: xx-large; font-weight: 900; line-height: 100%\">pyKOLK</p>\n",
    "    <p style=\"font-size: large; color: rgba(0,0,0,0.5);\"><b style=color:red;>Solution</b> pockets</p>\n",
    "    <p style=\"font-size: large; color: rgba(0,0,0,0.5);\">Georg Kaufmann</p>\n",
    "    </td>\n",
    "<td><img style=\"height: 150px;\" src=\"images/pyKOLK.png\"></td>\n",
    "</tr>\n",
    "</table>\n",
    "\n",
    "----\n",
    "# `pyKOLK`\n",
    "\n",
    "pyKOLK, a program package prediction the shape of solution pockets in caves from pre-defined climate conditions."
   ]
  },
  {
   "cell_type": "markdown",
   "id": "fea533e9",
   "metadata": {},
   "source": [
    "----\n",
    "## Contents\n",
    "\n",
    "- Basics\n",
    "    - [Introduction](pyKOLK_introduction.ipynb)\n",
    "    - [Theory](pyKOLK_theory.ipynb)\n",
    "\n",
    "- Chemistry\n",
    "    - [libCHEM](pyKOLK_libCHEM.ipynb)\n",
    "    - [Water-Carbon dioxide](pyKOLK_H2O_CO2.ipynb)\n",
    "    - [Calcium equilibrium](pyKOLK_CaEquilibrium.ipynb)\n",
    "    - [Calcium flux](pyKOLK_CaFlux.ipynb)\n",
    "    \n",
    "- Setup\n",
    "    - [Path of water](pyKOLK_PathOfWater.ipynb)\n",
    "    - [Temperature drop](pyKOLK_temp.ipynb)\n",
    "    - [CO$_2$ increase](pyKOLK_pco2.ipynb)\n",
    "\n",
    "- Run\n",
    "    - [Run with temperature variation](pyKOLK_runFlow_temp.ipynb)\n",
    "    - [Run with CO$_2$ variation](pyKOLK_runFlow_pco2.ipynb)\n",
    "    - [Run with driprate variation](pyKOLK_runFlow_driprate.ipynb)"
   ]
  },
  {
   "cell_type": "markdown",
   "id": "b9ee8777",
   "metadata": {},
   "source": [
    "----"
   ]
  }
 ],
 "metadata": {
  "kernelspec": {
   "display_name": "Python 3 (ipykernel)",
   "language": "python",
   "name": "python3"
  },
  "language_info": {
   "codemirror_mode": {
    "name": "ipython",
    "version": 3
   },
   "file_extension": ".py",
   "mimetype": "text/x-python",
   "name": "python",
   "nbconvert_exporter": "python",
   "pygments_lexer": "ipython3",
   "version": "3.11.3"
  }
 },
 "nbformat": 4,
 "nbformat_minor": 5
}
